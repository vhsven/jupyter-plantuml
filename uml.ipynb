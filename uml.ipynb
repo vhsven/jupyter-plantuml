{
 "cells": [
  {
   "cell_type": "markdown",
   "id": "89c42346-529a-48d1-bb50-59f5a59d36dc",
   "metadata": {},
   "source": [
    "# PlantUML in Jupyter\n",
    "\n",
    "## Setup\n",
    "\n",
    "- `conda env create -f env.yml`\n",
    "- `jupyter lab`"
   ]
  },
  {
   "cell_type": "code",
   "execution_count": 28,
   "id": "ecf205e1-fc82-44a1-b919-27e600c409ea",
   "metadata": {},
   "outputs": [],
   "source": [
    "import os\n",
    "import iplantuml\n",
    "iplantuml.PLANTUMLPATH = os.path.join(os.environ['CONDA_PREFIX'], r'Library\\lib\\plantuml.jar')"
   ]
  },
  {
   "cell_type": "code",
   "execution_count": 27,
   "id": "de00fa3e-effd-4375-8cd3-3bbd1f2f17fc",
   "metadata": {},
   "outputs": [
    {
     "data": {
      "image/svg+xml": [
       "<svg xmlns=\"http://www.w3.org/2000/svg\" xmlns:xlink=\"http://www.w3.org/1999/xlink\" contentStyleType=\"text/css\" height=\"154px\" preserveAspectRatio=\"none\" style=\"width:221px;height:154px;background:#FFFFFF;\" version=\"1.1\" viewBox=\"0 0 221 154\" width=\"221px\" zoomAndPan=\"magnify\"><defs/><g><line style=\"stroke:#181818;stroke-width:0.5;stroke-dasharray:5.0,5.0;\" x1=\"27\" x2=\"27\" y1=\"37.6094\" y2=\"118.3125\"/><line style=\"stroke:#181818;stroke-width:0.5;stroke-dasharray:5.0,5.0;\" x1=\"195.5\" x2=\"195.5\" y1=\"37.6094\" y2=\"118.3125\"/><rect fill=\"#E2E2F0\" height=\"31.6094\" rx=\"2.5\" ry=\"2.5\" style=\"stroke:#181818;stroke-width:0.5;\" width=\"44\" x=\"5\" y=\"5\"/><text fill=\"#000000\" font-family=\"sans-serif\" font-size=\"14\" lengthAdjust=\"spacing\" textLength=\"30\" x=\"12\" y=\"26.5332\">Alice</text><rect fill=\"#E2E2F0\" height=\"31.6094\" rx=\"2.5\" ry=\"2.5\" style=\"stroke:#181818;stroke-width:0.5;\" width=\"44\" x=\"5\" y=\"117.3125\"/><text fill=\"#000000\" font-family=\"sans-serif\" font-size=\"14\" lengthAdjust=\"spacing\" textLength=\"30\" x=\"12\" y=\"138.8457\">Alice</text><rect fill=\"#E2E2F0\" height=\"31.6094\" rx=\"2.5\" ry=\"2.5\" style=\"stroke:#181818;stroke-width:0.5;\" width=\"39\" x=\"176.5\" y=\"5\"/><text fill=\"#000000\" font-family=\"sans-serif\" font-size=\"14\" lengthAdjust=\"spacing\" textLength=\"25\" x=\"183.5\" y=\"26.5332\">Bob</text><rect fill=\"#E2E2F0\" height=\"31.6094\" rx=\"2.5\" ry=\"2.5\" style=\"stroke:#181818;stroke-width:0.5;\" width=\"39\" x=\"176.5\" y=\"117.3125\"/><text fill=\"#000000\" font-family=\"sans-serif\" font-size=\"14\" lengthAdjust=\"spacing\" textLength=\"25\" x=\"183.5\" y=\"138.8457\">Bob</text><polygon fill=\"#181818\" points=\"184,65.9609,194,69.9609,184,73.9609,188,69.9609\" style=\"stroke:#181818;stroke-width:1.0;\"/><line style=\"stroke:#181818;stroke-width:1.0;\" x1=\"27\" x2=\"190\" y1=\"69.9609\" y2=\"69.9609\"/><text fill=\"#000000\" font-family=\"sans-serif\" font-size=\"13\" lengthAdjust=\"spacing\" textLength=\"135\" x=\"34\" y=\"65.1045\">Authentication Request</text><polygon fill=\"#181818\" points=\"38,96.3125,28,100.3125,38,104.3125,34,100.3125\" style=\"stroke:#181818;stroke-width:1.0;\"/><line style=\"stroke:#181818;stroke-width:1.0;stroke-dasharray:2.0,2.0;\" x1=\"32\" x2=\"195\" y1=\"100.3125\" y2=\"100.3125\"/><text fill=\"#000000\" font-family=\"sans-serif\" font-size=\"13\" lengthAdjust=\"spacing\" textLength=\"145\" x=\"44\" y=\"95.4561\">Authentication Response</text><!--SRC=[Syp9J4vLqBLJSCfFib9mB2t9ICqhoKnEBCdCprC8IYqiJIqkuGBAAUW2rJY256DHLLoGdrUS2W00]--></g></svg>"
      ],
      "text/plain": [
       "<IPython.core.display.SVG object>"
      ]
     },
     "execution_count": 27,
     "metadata": {},
     "output_type": "execute_result"
    }
   ],
   "source": [
    "%%plantuml --jar\n",
    "\n",
    "@startuml\n",
    "Alice -> Bob: Authentication Request\n",
    "Bob --> Alice: Authentication Response\n",
    "@enduml"
   ]
  },
  {
   "cell_type": "code",
   "execution_count": 19,
   "id": "b97557ac-f838-4db3-80b4-3e240af66c4a",
   "metadata": {},
   "outputs": [
    {
     "data": {
      "image/svg+xml": [
       "<svg xmlns=\"http://www.w3.org/2000/svg\" xmlns:xlink=\"http://www.w3.org/1999/xlink\" contentStyleType=\"text/css\" height=\"381px\" preserveAspectRatio=\"none\" style=\"width:898px;height:381px;background:#FFFFFF;\" version=\"1.1\" viewBox=\"0 0 898 381\" width=\"898px\" zoomAndPan=\"magnify\"><defs/><g><line style=\"stroke:#181818;stroke-width:1.5;\" x1=\"70.5\" x2=\"70.5\" y1=\"65.0938\" y2=\"85.0938\"/><rect fill=\"#F1F1F1\" height=\"35.0938\" style=\"stroke:#181818;stroke-width:1.5;\" width=\"121\" x=\"10\" y=\"85.0938\"/><text fill=\"#000000\" font-family=\"sans-serif\" font-size=\"12\" lengthAdjust=\"spacing\" textLength=\"101\" x=\"20\" y=\"107.5508\">Launch the project</text><line style=\"stroke:#181818;stroke-width:1.5;\" x1=\"70.5\" x2=\"80.5\" y1=\"152.7344\" y2=\"152.7344\"/><rect fill=\"#F1F1F1\" height=\"35.0938\" style=\"stroke:#181818;stroke-width:1.5;\" width=\"200\" x=\"80.5\" y=\"135.1875\"/><text fill=\"#000000\" font-family=\"sans-serif\" font-size=\"12\" lengthAdjust=\"spacing\" textLength=\"180\" x=\"90.5\" y=\"157.6445\">Complete Stakeholder Research</text><line style=\"stroke:#181818;stroke-width:1.5;\" x1=\"70.5\" x2=\"80.5\" y1=\"202.8281\" y2=\"202.8281\"/><rect fill=\"#F1F1F1\" height=\"35.0938\" style=\"stroke:#181818;stroke-width:1.5;\" width=\"166\" x=\"80.5\" y=\"185.2813\"/><text fill=\"#000000\" font-family=\"sans-serif\" font-size=\"12\" lengthAdjust=\"spacing\" textLength=\"146\" x=\"90.5\" y=\"207.7383\">Initial Implementation Plan</text><line style=\"stroke:#181818;stroke-width:1.5;\" x1=\"70.5\" x2=\"70.5\" y1=\"120.1875\" y2=\"202.8281\"/><line style=\"stroke:#181818;stroke-width:1.5;\" x1=\"349.5\" x2=\"349.5\" y1=\"65.0938\" y2=\"85.0938\"/><rect fill=\"#F1F1F1\" height=\"35.0938\" style=\"stroke:#181818;stroke-width:1.5;\" width=\"98\" x=\"300.5\" y=\"85.0938\"/><text fill=\"#000000\" font-family=\"sans-serif\" font-size=\"12\" lengthAdjust=\"spacing\" textLength=\"78\" x=\"310.5\" y=\"107.5508\">Design phase</text><line style=\"stroke:#181818;stroke-width:1.5;\" x1=\"349.5\" x2=\"359.5\" y1=\"152.7344\" y2=\"152.7344\"/><rect fill=\"#F1F1F1\" height=\"35.0938\" style=\"stroke:#181818;stroke-width:1.5;\" width=\"220\" x=\"359.5\" y=\"135.1875\"/><text fill=\"#000000\" font-family=\"sans-serif\" font-size=\"12\" lengthAdjust=\"spacing\" textLength=\"200\" x=\"369.5\" y=\"157.6445\">Model of AsIs Processes Completed</text><line style=\"stroke:#181818;stroke-width:1.5;\" x1=\"469.5\" x2=\"479.5\" y1=\"202.8281\" y2=\"202.8281\"/><rect fill=\"#F1F1F1\" height=\"35.0938\" style=\"stroke:#181818;stroke-width:1.5;\" width=\"227\" x=\"479.5\" y=\"185.2813\"/><text fill=\"#000000\" font-family=\"sans-serif\" font-size=\"12\" lengthAdjust=\"spacing\" textLength=\"207\" x=\"489.5\" y=\"207.7383\">Model of AsIs Processes Completed1</text><line style=\"stroke:#181818;stroke-width:1.5;\" x1=\"469.5\" x2=\"479.5\" y1=\"252.9219\" y2=\"252.9219\"/><rect fill=\"#F1F1F1\" height=\"35.0938\" style=\"stroke:#181818;stroke-width:1.5;\" width=\"227\" x=\"479.5\" y=\"235.375\"/><text fill=\"#000000\" font-family=\"sans-serif\" font-size=\"12\" lengthAdjust=\"spacing\" textLength=\"207\" x=\"489.5\" y=\"257.832\">Model of AsIs Processes Completed2</text><line style=\"stroke:#181818;stroke-width:1.5;\" x1=\"469.5\" x2=\"469.5\" y1=\"170.2813\" y2=\"252.9219\"/><line style=\"stroke:#181818;stroke-width:1.5;\" x1=\"349.5\" x2=\"359.5\" y1=\"303.0156\" y2=\"303.0156\"/><rect fill=\"#F1F1F1\" height=\"35.0938\" style=\"stroke:#181818;stroke-width:1.5;\" width=\"212\" x=\"359.5\" y=\"285.4688\"/><text fill=\"#000000\" font-family=\"sans-serif\" font-size=\"12\" lengthAdjust=\"spacing\" textLength=\"192\" x=\"369.5\" y=\"307.9258\">Measure AsIs performance metrics</text><line style=\"stroke:#181818;stroke-width:1.5;\" x1=\"349.5\" x2=\"359.5\" y1=\"353.1094\" y2=\"353.1094\"/><rect fill=\"#F1F1F1\" height=\"35.0938\" style=\"stroke:#181818;stroke-width:1.5;\" width=\"123\" x=\"359.5\" y=\"335.5625\"/><text fill=\"#000000\" font-family=\"sans-serif\" font-size=\"12\" lengthAdjust=\"spacing\" textLength=\"103\" x=\"369.5\" y=\"358.0195\">Identify Quick Wins</text><line style=\"stroke:#181818;stroke-width:1.5;\" x1=\"349.5\" x2=\"349.5\" y1=\"120.1875\" y2=\"353.1094\"/><line style=\"stroke:#181818;stroke-width:1.5;\" x1=\"807\" x2=\"807\" y1=\"65.0938\" y2=\"85.0938\"/><rect fill=\"#F1F1F1\" height=\"35.0938\" style=\"stroke:#181818;stroke-width:1.5;\" width=\"161\" x=\"726.5\" y=\"85.0938\"/><text fill=\"#000000\" font-family=\"sans-serif\" font-size=\"12\" lengthAdjust=\"spacing\" textLength=\"141\" x=\"736.5\" y=\"107.5508\">Complete innovate phase</text><line style=\"stroke:#181818;stroke-width:1.5;\" x1=\"70.5\" x2=\"807\" y1=\"65.0938\" y2=\"65.0938\"/><rect fill=\"#F1F1F1\" height=\"35.0938\" style=\"stroke:#181818;stroke-width:1.5;\" width=\"208\" x=\"334.75\" y=\"10\"/><text fill=\"#000000\" font-family=\"sans-serif\" font-size=\"12\" lengthAdjust=\"spacing\" textLength=\"188\" x=\"344.75\" y=\"32.457\">Business Process Modelling WBS</text><line style=\"stroke:#181818;stroke-width:1.5;\" x1=\"438.75\" x2=\"438.75\" y1=\"45.0938\" y2=\"65.0938\"/><!--SRC=[ZP5FRy8m3CNl-HG-0jBGMWRQUc8KX62WiR71sRGkpMYTAd-O-FPBG8ChfqJsB_PxBqDZKTlVdH4T63aZcOo1bLPPE9SgfwgIl8VjQ2qw7LYWuwm4Mn8qMlrGPdsr0wcgcueimThYWKfLvQJXamoXpiepCMDf9LOm2s1DRD5AnR2gaCFSCHcvPsXAD7Jcpvj15V1gPbSzPAwRya3TWKLtSl5bAw5ncYvKGxfGkaRE26goMcRcOYNtycLnWWydimDi9OVwBGF9h8xeBnStG-8yn2k2L_kzNC2Hj0dcesxy6FUwKMlj6ER84Bz0r4lwpqb_0Eda2qAxBLhJrGACSjhhoANnGdOkXDSMSpmYV3glfgO4tXlY-VZjlm0JFagjE8Gjvflb3HWyFOoaXJLfhmGsIp6c0brb_OjCvVwt4qYRAEx7Oe6yTxZtmub5glnWVKfWEle3]--></g></svg>"
      ],
      "text/plain": [
       "<IPython.core.display.SVG object>"
      ]
     },
     "execution_count": 19,
     "metadata": {},
     "output_type": "execute_result"
    }
   ],
   "source": [
    "%%plantuml --jar\n",
    "\n",
    "@startwbs\n",
    "* Business Process Modelling WBS\n",
    "** Launch the project\n",
    "*** Complete Stakeholder Research\n",
    "*** Initial Implementation Plan\n",
    "** Design phase\n",
    "*** Model of AsIs Processes Completed\n",
    "**** Model of AsIs Processes Completed1\n",
    "**** Model of AsIs Processes Completed2\n",
    "*** Measure AsIs performance metrics\n",
    "*** Identify Quick Wins\n",
    "** Complete innovate phase\n",
    "@endwbs\n"
   ]
  },
  {
   "cell_type": "code",
   "execution_count": null,
   "id": "56a5334b-f6e6-4dad-9273-00e618956333",
   "metadata": {},
   "outputs": [],
   "source": []
  }
 ],
 "metadata": {
  "kernelspec": {
   "display_name": "Python 3 (ipykernel)",
   "language": "python",
   "name": "python3"
  },
  "language_info": {
   "codemirror_mode": {
    "name": "ipython",
    "version": 3
   },
   "file_extension": ".py",
   "mimetype": "text/x-python",
   "name": "python",
   "nbconvert_exporter": "python",
   "pygments_lexer": "ipython3",
   "version": "3.10.9"
  }
 },
 "nbformat": 4,
 "nbformat_minor": 5
}
